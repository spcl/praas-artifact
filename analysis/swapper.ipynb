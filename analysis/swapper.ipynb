{
 "cells": [
  {
   "cell_type": "code",
   "execution_count": 2,
   "id": "cceff200",
   "metadata": {},
   "outputs": [],
   "source": [
    "import os\n",
    "import pandas as pd"
   ]
  },
  {
   "cell_type": "code",
   "execution_count": 9,
   "id": "97c03aad",
   "metadata": {},
   "outputs": [
    {
     "name": "stderr",
     "output_type": "stream",
     "text": [
      "/tmp/ipykernel_4184141/1165782128.py:4: ParserWarning: Falling back to the 'python' engine because the 'c' engine does not support regex separators (separators > 1 char and different from '\\s+' are interpreted as regex); you can avoid this warning by specifying engine='python'.\n",
      "  data = pd.read_csv(os.path.join(data_path, 'swapper_s3_fargate.csv'), sep=',| ')\n",
      "/tmp/ipykernel_4184141/1165782128.py:14: ParserWarning: Falling back to the 'python' engine because the 'c' engine does not support regex separators (separators > 1 char and different from '\\s+' are interpreted as regex); you can avoid this warning by specifying engine='python'.\n",
      "  data_ec2 = pd.read_csv(os.path.join(data_path, 'swapper_s3_ec2.csv'), sep=',| ')\n"
     ]
    }
   ],
   "source": [
    "data_path = os.path.join(os.path.pardir, 'data', 'swapping')\n",
    "# read praas data\n",
    "#for size in sizes:\n",
    "data = pd.read_csv(os.path.join(data_path, 'swapper_s3_fargate.csv'), sep=',| ')\n",
    "#print(data)\n",
    "#data.set_index('id', drop=True, inplace=True)\n",
    "data['time'] /= 1000.0 * 1000.0\n",
    "data['type'] = 's3'\n",
    "data.drop(['repetition'], axis=1, inplace=True)\n",
    "\n",
    "data_path = os.path.join(os.path.pardir, 'data', 'swapping')\n",
    "# read praas data\n",
    "#for size in sizes:\n",
    "data_ec2 = pd.read_csv(os.path.join(data_path, 'swapper_s3_ec2.csv'), sep=',| ')\n",
    "#print(data)\n",
    "#data.set_index('id', drop=True, inplace=True)\n",
    "data_ec2['time'] /= 1000.0 * 1000.0\n",
    "data_ec2['type'] = 's3'\n",
    "data_ec2.drop(['repetition'], axis=1, inplace=True)\n"
   ]
  },
  {
   "cell_type": "code",
   "execution_count": 14,
   "id": "8d75abec",
   "metadata": {},
   "outputs": [
    {
     "name": "stdout",
     "output_type": "stream",
     "text": [
      "------Fargate----------\n",
      "                     time\n",
      "size      threads        \n",
      "1048576   1          98.4\n",
      "5242880   1         173.0\n",
      "10485760  1         231.9\n",
      "52428800  1         907.7\n",
      "104857600 1        1719.3\n",
      "209715200 1        3480.4\n",
      "                     time\n",
      "size      threads        \n",
      "1048576   2         121.2\n",
      "5242880   2         176.5\n",
      "10485760  2         249.4\n",
      "52428800  2         990.7\n",
      "104857600 2        1911.9\n",
      "209715200 2        3809.3\n",
      "                     time\n",
      "size      threads        \n",
      "1048576   4         151.5\n",
      "5242880   4         176.3\n",
      "10485760  4         250.9\n",
      "52428800  4         899.3\n",
      "104857600 4        1755.9\n",
      "209715200 4        3452.6\n",
      "                     time\n",
      "size      threads        \n",
      "1048576   8         120.8\n",
      "5242880   8         203.3\n",
      "10485760  8         235.8\n",
      "52428800  8         842.6\n",
      "104857600 8        1822.0\n",
      "209715200 8        3490.4\n",
      "                     time\n",
      "size      threads        \n",
      "1048576   16        111.6\n",
      "5242880   16        242.2\n",
      "10485760  16        266.5\n",
      "52428800  16        978.7\n",
      "104857600 16       1698.2\n",
      "209715200 16       3377.2\n",
      "------EC2----------\n",
      "                     time\n",
      "size      threads        \n",
      "1048576   1         120.5\n",
      "5242880   1         172.8\n",
      "10485760  1         220.2\n",
      "52428800  1         791.8\n",
      "104857600 1        1525.7\n",
      "209715200 1        2930.5\n",
      "                     time\n",
      "size      threads        \n",
      "1048576   2         102.0\n",
      "5242880   2         160.7\n",
      "10485760  2         211.0\n",
      "52428800  2         675.7\n",
      "104857600 2        1290.9\n",
      "209715200 2        2504.7\n",
      "                     time\n",
      "size      threads        \n",
      "1048576   4         128.6\n",
      "5242880   4         173.7\n",
      "10485760  4         220.8\n",
      "52428800  4         675.2\n",
      "104857600 4        1249.6\n",
      "209715200 4        2444.7\n",
      "                     time\n",
      "size      threads        \n",
      "1048576   8         121.7\n",
      "5242880   8         161.1\n",
      "10485760  8         218.0\n",
      "52428800  8         658.0\n",
      "104857600 8        1212.3\n",
      "209715200 8        2396.4\n",
      "                     time\n",
      "size      threads        \n",
      "1048576   16       9406.4\n",
      "5242880   16        204.0\n",
      "10485760  16        217.0\n",
      "52428800  16        682.5\n",
      "104857600 16       1214.7\n",
      "209715200 16       2414.1\n"
     ]
    }
   ],
   "source": [
    "\n",
    "print('------Fargate----------')\n",
    "\n",
    "for i in [1, 2,4,8,16]:\n",
    "\n",
    "    par = data.loc[data['threads'] == i].groupby(['size', 'threads']).median().round(1)\n",
    "    print(par)\n",
    "\n",
    "print('------EC2----------')\n",
    "\n",
    "for i in [1, 2,4,8,16]:\n",
    "\n",
    "    par = data_ec2.loc[data_ec2['threads'] == i].groupby(['size', 'threads']).median().round(1)\n",
    "    print(par)\n",
    "    #print(serial['time']/par['time'].unstack())"
   ]
  },
  {
   "cell_type": "code",
   "execution_count": 12,
   "id": "11bc59b9",
   "metadata": {},
   "outputs": [
    {
     "name": "stdout",
     "output_type": "stream",
     "text": [
      "                          time\n",
      "size      threads             \n",
      "1048576   1          98.391388\n",
      "5242880   1         172.957722\n",
      "10485760  1         231.908379\n",
      "52428800  1         907.679747\n",
      "104857600 1        1719.261522\n",
      "209715200 1        3480.382454\n"
     ]
    },
    {
     "ename": "NameError",
     "evalue": "name 'data_fargate' is not defined",
     "output_type": "error",
     "traceback": [
      "\u001b[0;31m---------------------------------------------------------------------------\u001b[0m",
      "\u001b[0;31mNameError\u001b[0m                                 Traceback (most recent call last)",
      "Input \u001b[0;32mIn [12]\u001b[0m, in \u001b[0;36m<cell line: 2>\u001b[0;34m()\u001b[0m\n\u001b[1;32m      1\u001b[0m \u001b[38;5;28mprint\u001b[39m(data\u001b[38;5;241m.\u001b[39mloc[data[\u001b[38;5;124m'\u001b[39m\u001b[38;5;124mthreads\u001b[39m\u001b[38;5;124m'\u001b[39m] \u001b[38;5;241m==\u001b[39m \u001b[38;5;241m1\u001b[39m]\u001b[38;5;241m.\u001b[39mgroupby([\u001b[38;5;124m'\u001b[39m\u001b[38;5;124msize\u001b[39m\u001b[38;5;124m'\u001b[39m, \u001b[38;5;124m'\u001b[39m\u001b[38;5;124mthreads\u001b[39m\u001b[38;5;124m'\u001b[39m])\u001b[38;5;241m.\u001b[39mmedian())\n\u001b[0;32m----> 2\u001b[0m serial \u001b[38;5;241m=\u001b[39m \u001b[43mdata_fargate\u001b[49m\u001b[38;5;241m.\u001b[39mloc[data_fargate[\u001b[38;5;124m'\u001b[39m\u001b[38;5;124mthreads\u001b[39m\u001b[38;5;124m'\u001b[39m] \u001b[38;5;241m==\u001b[39m \u001b[38;5;241m1\u001b[39m]\u001b[38;5;241m.\u001b[39mgroupby([\u001b[38;5;124m'\u001b[39m\u001b[38;5;124msize\u001b[39m\u001b[38;5;124m'\u001b[39m, \u001b[38;5;124m'\u001b[39m\u001b[38;5;124mthreads\u001b[39m\u001b[38;5;124m'\u001b[39m])\u001b[38;5;241m.\u001b[39mmedian()\n\u001b[1;32m      3\u001b[0m \u001b[38;5;28mprint\u001b[39m(serial)\n\u001b[1;32m      4\u001b[0m \u001b[38;5;66;03m#print(data_ec2.loc[data['threads'] == 1])\u001b[39;00m\n\u001b[1;32m      5\u001b[0m \u001b[38;5;66;03m#print(serial)\u001b[39;00m\n",
      "\u001b[0;31mNameError\u001b[0m: name 'data_fargate' is not defined"
     ]
    }
   ],
   "source": [
    "print(data.loc[data['threads'] == 1].groupby(['size', 'threads']).median())\n",
    "serial = data.loc[data_fargate['threads'] == 1].groupby(['size', 'threads']).median()\n",
    "print(serial)\n",
    "#print(data_ec2.loc[data['threads'] == 1])\n",
    "#print(serial)\n",
    "for i in [2,4,8,16]:\n",
    "\n",
    "    par = data.loc[data_fargate['threads'] == i].groupby(['size', 'threads']).median()\n",
    "    print(par)\n",
    "    #print(serial['time']/par['time'].unstack())"
   ]
  },
  {
   "cell_type": "code",
   "execution_count": null,
   "id": "9564da9f",
   "metadata": {},
   "outputs": [],
   "source": []
  }
 ],
 "metadata": {
  "kernelspec": {
   "display_name": "Python 3 (ipykernel)",
   "language": "python",
   "name": "python3"
  },
  "language_info": {
   "codemirror_mode": {
    "name": "ipython",
    "version": 3
   },
   "file_extension": ".py",
   "mimetype": "text/x-python",
   "name": "python",
   "nbconvert_exporter": "python",
   "pygments_lexer": "ipython3",
   "version": "3.10.14"
  }
 },
 "nbformat": 4,
 "nbformat_minor": 5
}
